{
 "cells": [
  {
   "cell_type": "code",
   "execution_count": 43,
   "metadata": {},
   "outputs": [],
   "source": [
    "#EMA filter\n",
    "\n",
    "import numpy as np\n",
    "from scipy import signal\n",
    "import matplotlib.pyplot as plt\n",
    "\n",
    "def EMAFilter(x, alpha, y_prev):\n",
    "    return alpha * x + (1-alpha)*y_prev\n",
    "\n",
    "\n",
    "def EMAFilterResponse(alpha):\n",
    "    b = [alpha] #nominator\n",
    "    a = [1, -1+alpha] #denominator\n",
    "    return b,a\n",
    "\n",
    "def FindNearest(array, value):\n",
    "    array = np.asarray(array)\n",
    "    return (np.abs(array - value)).argmin()"
   ]
  },
  {
   "cell_type": "code",
   "execution_count": 44,
   "metadata": {},
   "outputs": [
    {
     "name": "stdout",
     "output_type": "stream",
     "text": [
      "$a_1 = -2.0\n",
      "$a_2 = 2.0\n"
     ]
    }
   ],
   "source": [
    "y_prev = 0\n",
    "alpha = 0.4\n",
    "\n",
    "fs = 2000\n",
    "f_c = 500 \n",
    "w_c = 2 * np.pi * f_c\n",
    "delta = 4 * (1 - np.cos(w_c) )**2 - 4 * (-2 - 2 * np.cos(w_c))\n",
    "alpha_1 = ( -2 * (1 - np.cos(w_c)) - np.sqrt( delta ) ) / (2)\n",
    "alpha_2 = ( -2 * (1 - np.cos(w_c)) + np.sqrt( delta ) ) / (2)\n",
    "\n",
    "print(\"$a_1 = \" + str(alpha_1));\n",
    "print(\"$a_2 = \" + str(alpha_2));\n",
    "\n",
    "alpha = -alpha_2"
   ]
  },
  {
   "cell_type": "code",
   "execution_count": 45,
   "metadata": {},
   "outputs": [
    {
     "name": "stdout",
     "output_type": "stream",
     "text": [
      "cutoff freq = 390.62500000000006\n"
     ]
    }
   ],
   "source": [
    "b,a = EMAFilterResponse(alpha)\n",
    "w, h = signal.freqz(b,a,fs=fs)\n",
    "h = 20 * np.log10(abs(h))\n",
    "\n",
    "idx = FindNearest(h, -3)\n",
    "print(\"cutoff freq = \" + str(w[idx]))"
   ]
  },
  {
   "cell_type": "code",
   "execution_count": 46,
   "metadata": {},
   "outputs": [
    {
     "data": {
      "text/plain": [
       "<matplotlib.legend.Legend at 0x7f05b4108a60>"
      ]
     },
     "execution_count": 46,
     "metadata": {},
     "output_type": "execute_result"
    },
    {
     "data": {
      "image/png": "[encoded data removed]",
      "text/plain": [
       "<Figure size 432x288 with 1 Axes>"
      ]
     },
     "metadata": {
      "needs_background": "light"
     },
     "output_type": "display_data"
    }
   ],
   "source": [
    "plt.semilogx(w, h, label=\"alpha = \"+ str(alpha) +\" cutoff = \" + str(w[idx]))\n",
    "plt.plot(w[idx], h[idx],'o')\n",
    "plt.xlabel('Frequency[Hz]')\n",
    "plt.ylabel('20log(h)')\n",
    "plt.legend()"
   ]
  }
 ],
 "metadata": {
  "kernelspec": {
   "display_name": "Python 3",
   "language": "python",
   "name": "python3"
  },
  "language_info": {
   "codemirror_mode": {
    "name": "ipython",
    "version": 3
   },
   "file_extension": ".py",
   "mimetype": "text/x-python",
   "name": "python",
   "nbconvert_exporter": "python",
   "pygments_lexer": "ipython3",
   "version": "3.10.12"
  }
 },
 "nbformat": 4,
 "nbformat_minor": 2
}
